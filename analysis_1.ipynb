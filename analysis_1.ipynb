{
 "cells": [
  {
   "cell_type": "code",
   "execution_count": 1,
   "metadata": {},
   "outputs": [],
   "source": [
    "import torch\n",
    "import numpy\n",
    "\n",
    "import h5py\n",
    "import matplotlib.pyplot as plt"
   ]
  },
  {
   "cell_type": "code",
   "execution_count": 2,
   "metadata": {},
   "outputs": [],
   "source": [
    "def normalized_rmse(predictions, true_values):\n",
    "  \"\"\"\n",
    "  Calculates the Normalized Root Mean Squared Error (nRMSE).\n",
    "\n",
    "  Args:\n",
    "    predictions: A array containing the predicted values.\n",
    "    true_values: A array containing the true values.\n",
    "\n",
    "  Returns:\n",
    "    The normalized root mean squared error.\n",
    "  \"\"\"\n",
    "  #print(predictions.shape, true_values.shape)\n",
    "\n",
    "  rmse = torch.sqrt(torch.mean((predictions - true_values) ** 2, dim = 1 ) )\n",
    "\n",
    "  nrmse = rmse /   torch.sqrt(torch.mean((true_values) ** 2, dim = 1) )    #torch.std(true_values)\n",
    "  #return torch.mean(nrmse)\n",
    "  return nrmse"
   ]
  },
  {
   "cell_type": "code",
   "execution_count": 3,
   "metadata": {},
   "outputs": [
    {
     "name": "stdout",
     "output_type": "stream",
     "text": [
      "dict_keys(['train_cons_oto_250', 'train_cons_ro_250', 'test_cons_oto_250', 'test_cons_ro_250', 'valid_cons_oto_250', 'valid_cons_ro_250', 'train_var_oto_250', 'train_var_ro_250', 'test_var_oto_250', 'test_var_ro_250', 'valid_var_oto_250', 'valid_var_ro_250'])\n"
     ]
    }
   ],
   "source": [
    "file_loc = \"/nobackup/scoc/variable_autoregression/result/B1/variable_time/B1_1_FNO_attention/run_6/run_6_result_prior_dt1_3.pt\"\n",
    "test_var_prior_1_3 = torch.load(file_loc, map_location=\"cpu\")\n",
    "print(test_var_prior_1_3.keys())"
   ]
  },
  {
   "cell_type": "code",
   "execution_count": 10,
   "metadata": {},
   "outputs": [
    {
     "data": {
      "text/plain": [
       "torch.Size([32, 100])"
      ]
     },
     "execution_count": 10,
     "metadata": {},
     "output_type": "execute_result"
    }
   ],
   "source": [
    " test_var_prior_1_3[\"test_var_ro_250\"][-1].shape"
   ]
  },
  {
   "cell_type": "code",
   "execution_count": 9,
   "metadata": {},
   "outputs": [],
   "source": [
    "prediction_B1_var_prior_1_3 = test_var_prior_1_3[\"test_var_ro_250\"][1]\n",
    "actual_B1_var_prior_1_3 = test_var_prior_1_3[\"test_var_ro_250\"][2]"
   ]
  }
 ],
 "metadata": {
  "kernelspec": {
   "display_name": "le_pde",
   "language": "python",
   "name": "python3"
  },
  "language_info": {
   "codemirror_mode": {
    "name": "ipython",
    "version": 3
   },
   "file_extension": ".py",
   "mimetype": "text/x-python",
   "name": "python",
   "nbconvert_exporter": "python",
   "pygments_lexer": "ipython3",
   "version": "3.9.18"
  }
 },
 "nbformat": 4,
 "nbformat_minor": 2
}
